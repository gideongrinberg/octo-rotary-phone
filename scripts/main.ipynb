{
 "cells": [
  {
   "cell_type": "code",
   "execution_count": 1,
   "id": "af58c182-496e-4191-8422-9e063a671c8f",
   "metadata": {
    "scrolled": true
   },
   "outputs": [],
   "source": [
    "import popular\n",
    "import unpopular\n",
    "import numpy as np\n",
    "import polars as pl\n",
    "import lightkurve as lk\n",
    "\n",
    "from tqdm import tqdm\n",
    "from scipy.signal import find_peaks\n",
    "from tesscube import TESSCube\n",
    "from astropy.wcs import WCS\n",
    "from astropy.coordinates import SkyCoord\n",
    "from concurrent.futures.thread import ThreadPoolExecutor"
   ]
  },
  {
   "cell_type": "code",
   "execution_count": 2,
   "id": "e75bef19-4e1b-4194-bc7b-519f7976a073",
   "metadata": {},
   "outputs": [],
   "source": [
    "def _count_harmonics(\n",
    "    lc: lk.LightCurve, height: float = 0.15\n",
    ") -> list[tuple[float, float]]:\n",
    "    \"\"\"Find the harmonics in the L-S periodogram of a given lightcurve.\n",
    "\n",
    "    Args:\n",
    "        lc (lk.LightCurve)\n",
    "        height (float, optional): The minimum height of a peak as a fraction of the main harmonic. Defaults to 0.15.\n",
    "\n",
    "    Returns:\n",
    "        list[tuple[float, float]]: A list containing each harmonic as a tuple of period and power.\n",
    "    \"\"\"\n",
    "\n",
    "    pg = lc.to_periodogram()\n",
    "    period = pg.period_at_max_power\n",
    "\n",
    "    if period.value >= 2:\n",
    "        return []\n",
    "\n",
    "    expected_harmonics = []\n",
    "    for i in range(1, 9):\n",
    "        expected_harmonics.append(period.value / i)\n",
    "\n",
    "    peaks, properties = find_peaks(\n",
    "        pg.power, distance=120, height=pg.max_power.value * height\n",
    "    )\n",
    "\n",
    "    peak_periods = [pg.period[idx].value for idx in peaks]\n",
    "\n",
    "    found_harmonics = []\n",
    "    for i, period in enumerate(peak_periods):\n",
    "        in_range = 0.9 * expected_harmonics[i] <= period <= 1.1 * expected_harmonics[i]\n",
    "        if in_range:\n",
    "            found_harmonics.append((period, properties[\"peak_heights\"][i]))\n",
    "\n",
    "    return found_harmonics\n",
    "\n",
    "def is_complex(lc: lk.LightCurve) -> bool:\n",
    "    \"\"\"Check if a given lightcurve is complex by counting the number of harmonics.\"\"\"\n",
    "    return len(_count_harmonics(lc)) >= 3"
   ]
  },
  {
   "cell_type": "code",
   "execution_count": 3,
   "id": "9c796fd9-638a-431b-9191-79a2213389dc",
   "metadata": {},
   "outputs": [],
   "source": [
    "def get_tpf(coords, sector, camera, ccd):\n",
    "    cube = TESSCube(sector, camera, ccd)\n",
    "    wcs = cube.wcs\n",
    "    pixels = wcs.world_to_pixel(coords)\n",
    "    \n",
    "    col_pix, row_pix = np.asarray(pixels).astype(np.dtype(\"int\"))\n",
    "    corner = (row_pix - (50 // 2), col_pix - (50 // 2))\n",
    "    tpf = cube.get_tpf(corner, shape=(50, 50), calculate_poscorr=False)\n",
    "\n",
    "    return tpf\n",
    "\n",
    "\n",
    "def make_lightcurve(tpf):    \n",
    "    s = popular.Source(tpf, remove_bad=True)\n",
    "    s.set_aperture(rowlims=[25, 26], collims=[25, 26])\n",
    "    s.add_cpm_model(exclusion_size=5, n=64, predictor_method=\"similar_brightness\")\n",
    "    s.set_regs([0.1])\n",
    "    s.holdout_fit_predict(k=100)\n",
    "    apt_detrended_flux = s.get_aperture_lc(data_type=\"cpm_subtracted_flux\")\n",
    "    \n",
    "    return lk.TessLightCurve(time=s.time, flux=apt_detrended_flux)"
   ]
  },
  {
   "cell_type": "code",
   "execution_count": 4,
   "id": "0a7d8377-b797-4625-96dd-6082d40fe9ba",
   "metadata": {},
   "outputs": [],
   "source": [
    "def process_target(target):\n",
    "    tic, ra, dec, sector, camera, ccd = target.values()\n",
    "    coords = SkyCoord(ra, dec, unit=\"deg\", frame=\"icrs\")\n",
    "\n",
    "    tpf = get_tpf(coords, sector, camera, ccd)\n",
    "    lc = make_lightcurve(tpf)\n",
    "    return (tic, sector, is_complex(lc))"
   ]
  },
  {
   "cell_type": "code",
   "execution_count": 5,
   "id": "e70f624d-e80b-4225-b75e-0e12843e99ca",
   "metadata": {},
   "outputs": [],
   "source": [
    "targets = pl.read_csv(\"./data/targets.csv\")"
   ]
  },
  {
   "cell_type": "code",
   "execution_count": 8,
   "id": "323e37d7-873e-4e77-950a-7afe2e5e3475",
   "metadata": {},
   "outputs": [
    {
     "name": "stderr",
     "output_type": "stream",
     "text": [
      " 10%|████████████████▊                                                                                                                                                       | 1/10 [00:05<00:47,  5.28s/it]"
     ]
    },
    {
     "name": "stdout",
     "output_type": "stream",
     "text": [
      "Summing over 2 x 2 pixel lightcurves. Weighting=None\n",
      "Summing over 2 x 2 pixel lightcurves. Weighting=None\n"
     ]
    },
    {
     "name": "stderr",
     "output_type": "stream",
     "text": [
      " 20%|█████████████████████████████████▌                                                                                                                                      | 2/10 [00:20<01:30, 11.29s/it]/home/zeus/pipeline/.venv/lib/python3.12/site-packages/astropy/units/quantity.py:658: RuntimeWarning: invalid value encountered in sqrt\n",
      "  result = super().__array_ufunc__(function, method, *arrays, **kwargs)\n",
      " 30%|██████████████████████████████████████████████████▍                                                                                                                     | 3/10 [00:26<01:01,  8.73s/it]"
     ]
    },
    {
     "name": "stdout",
     "output_type": "stream",
     "text": [
      "Summing over 2 x 2 pixel lightcurves. Weighting=None\n",
      "Summing over 2 x 2 pixel lightcurves. Weighting=None\n"
     ]
    },
    {
     "name": "stderr",
     "output_type": "stream",
     "text": [
      " 50%|████████████████████████████████████████████████████████████████████████████████████                                                                                    | 5/10 [00:46<00:43,  8.67s/it]"
     ]
    },
    {
     "name": "stdout",
     "output_type": "stream",
     "text": [
      "Summing over 2 x 2 pixel lightcurves. Weighting=None\n",
      "Summing over 2 x 2 pixel lightcurves. Weighting=None\n"
     ]
    },
    {
     "name": "stderr",
     "output_type": "stream",
     "text": [
      " 60%|████████████████████████████████████████████████████████████████████████████████████████████████████▊                                                                   | 6/10 [00:52<00:31,  7.82s/it]"
     ]
    },
    {
     "name": "stdout",
     "output_type": "stream",
     "text": [
      "Summing over 2 x 2 pixel lightcurves. Weighting=None\n"
     ]
    },
    {
     "name": "stderr",
     "output_type": "stream",
     "text": [
      " 70%|█████████████████████████████████████████████████████████████████████████████████████████████████████████████████████▌                                                  | 7/10 [01:23<00:35, 11.92s/it]"
     ]
    },
    {
     "name": "stdout",
     "output_type": "stream",
     "text": [
      "Summing over 2 x 2 pixel lightcurves. Weighting=None\n"
     ]
    },
    {
     "name": "stderr",
     "output_type": "stream",
     "text": [
      "\n"
     ]
    },
    {
     "ename": "IndexError",
     "evalue": "list index out of range",
     "output_type": "error",
     "traceback": [
      "\u001b[31m---------------------------------------------------------------------------\u001b[39m",
      "\u001b[31mIndexError\u001b[39m                                Traceback (most recent call last)",
      "\u001b[36mCell\u001b[39m\u001b[36m \u001b[39m\u001b[32mIn[8]\u001b[39m\u001b[32m, line 2\u001b[39m\n\u001b[32m      1\u001b[39m \u001b[38;5;28;01mfor\u001b[39;00m target \u001b[38;5;129;01min\u001b[39;00m tqdm(targets[\u001b[32m0\u001b[39m:\u001b[32m10\u001b[39m].to_dicts()):\n\u001b[32m----> \u001b[39m\u001b[32m2\u001b[39m     \u001b[43mprocess_target\u001b[49m\u001b[43m(\u001b[49m\u001b[43mtarget\u001b[49m\u001b[43m)\u001b[49m\n",
      "\u001b[36mCell\u001b[39m\u001b[36m \u001b[39m\u001b[32mIn[4]\u001b[39m\u001b[32m, line 7\u001b[39m, in \u001b[36mprocess_target\u001b[39m\u001b[34m(target)\u001b[39m\n\u001b[32m      5\u001b[39m tpf = get_tpf(coords, sector, camera, ccd)\n\u001b[32m      6\u001b[39m lc = make_lightcurve(tpf)\n\u001b[32m----> \u001b[39m\u001b[32m7\u001b[39m \u001b[38;5;28;01mreturn\u001b[39;00m (tic, sector, \u001b[43mis_complex\u001b[49m\u001b[43m(\u001b[49m\u001b[43mlc\u001b[49m\u001b[43m)\u001b[49m)\n",
      "\u001b[36mCell\u001b[39m\u001b[36m \u001b[39m\u001b[32mIn[2]\u001b[39m\u001b[32m, line 40\u001b[39m, in \u001b[36mis_complex\u001b[39m\u001b[34m(lc)\u001b[39m\n\u001b[32m     38\u001b[39m \u001b[38;5;28;01mdef\u001b[39;00m\u001b[38;5;250m \u001b[39m\u001b[34mis_complex\u001b[39m(lc: lk.LightCurve) -> \u001b[38;5;28mbool\u001b[39m:\n\u001b[32m     39\u001b[39m \u001b[38;5;250m    \u001b[39m\u001b[33;03m\"\"\"Check if a given lightcurve is complex by counting the number of harmonics.\"\"\"\u001b[39;00m\n\u001b[32m---> \u001b[39m\u001b[32m40\u001b[39m     \u001b[38;5;28;01mreturn\u001b[39;00m \u001b[38;5;28mlen\u001b[39m(\u001b[43m_count_harmonics\u001b[49m\u001b[43m(\u001b[49m\u001b[43mlc\u001b[49m\u001b[43m)\u001b[49m) >= \u001b[32m3\u001b[39m\n",
      "\u001b[36mCell\u001b[39m\u001b[36m \u001b[39m\u001b[32mIn[2]\u001b[39m\u001b[32m, line 32\u001b[39m, in \u001b[36m_count_harmonics\u001b[39m\u001b[34m(lc, height)\u001b[39m\n\u001b[32m     30\u001b[39m found_harmonics = []\n\u001b[32m     31\u001b[39m \u001b[38;5;28;01mfor\u001b[39;00m i, period \u001b[38;5;129;01min\u001b[39;00m \u001b[38;5;28menumerate\u001b[39m(peak_periods):\n\u001b[32m---> \u001b[39m\u001b[32m32\u001b[39m     in_range = \u001b[32m0.9\u001b[39m * \u001b[43mexpected_harmonics\u001b[49m\u001b[43m[\u001b[49m\u001b[43mi\u001b[49m\u001b[43m]\u001b[49m <= period <= \u001b[32m1.1\u001b[39m * expected_harmonics[i]\n\u001b[32m     33\u001b[39m     \u001b[38;5;28;01mif\u001b[39;00m in_range:\n\u001b[32m     34\u001b[39m         found_harmonics.append((period, properties[\u001b[33m\"\u001b[39m\u001b[33mpeak_heights\u001b[39m\u001b[33m\"\u001b[39m][i]))\n",
      "\u001b[31mIndexError\u001b[39m: list index out of range"
     ]
    }
   ],
   "source": [
    "for target in tqdm(targets[0:10].to_dicts()):\n",
    "    process_target(target)"
   ]
  },
  {
   "cell_type": "code",
   "execution_count": null,
   "id": "e5eb7359-82cb-4b29-b815-877f76392af4",
   "metadata": {},
   "outputs": [],
   "source": []
  }
 ],
 "metadata": {
  "kernelspec": {
   "display_name": "Python 3 (ipykernel)",
   "language": "python",
   "name": "python3"
  },
  "language_info": {
   "codemirror_mode": {
    "name": "ipython",
    "version": 3
   },
   "file_extension": ".py",
   "mimetype": "text/x-python",
   "name": "python",
   "nbconvert_exporter": "python",
   "pygments_lexer": "ipython3",
   "version": "3.12.3"
  }
 },
 "nbformat": 4,
 "nbformat_minor": 5
}
